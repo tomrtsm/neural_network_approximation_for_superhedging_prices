{
 "cells": [
  {
   "cell_type": "code",
   "execution_count": 1,
   "metadata": {},
   "outputs": [],
   "source": [
    "# Import Statements\n",
    "\n",
    "import os\n",
    "\n",
    "import numpy as np\n",
    "import pandas as pd\n",
    "import math as m\n",
    "\n",
    "import matplotlib.pyplot as plt\n",
    "\n",
    "from sklearn.model_selection import train_test_split\n",
    "from sklearn.preprocessing import MinMaxScaler\n",
    "from sklearn.preprocessing import StandardScaler\n",
    "\n",
    "import keras.backend as K\n",
    "import tensorflow as tf\n",
    "from tensorflow.keras.layers import *\n",
    "from tensorflow.keras.activations import *\n",
    "from tensorflow.keras.models import *\n",
    "from tensorflow.keras.optimizers import *\n",
    "from tensorflow.keras.initializers import *\n",
    "from tensorflow.keras.callbacks import TensorBoard\n",
    "\n",
    "from scipy.stats import norm\n",
    "\n",
    "from plotting import *\n",
    "\n",
    "np.random.seed(1)"
   ]
  },
  {
   "cell_type": "code",
   "execution_count": 2,
   "metadata": {},
   "outputs": [],
   "source": [
    "# Data Generator Class\n",
    "\n",
    "class DataGenerator:\n",
    "\n",
    "    def __init__(self, NumOfSamples, TimeSteps, InitPrice, vol,dt, mean):\n",
    "        self._NumOfSamples = NumOfSamples\n",
    "        self._TimeSteps = TimeSteps\n",
    "        self._InitPrice = InitPrice       \n",
    "        self._vol = vol\n",
    "        self._dt = dt\n",
    "        self._mean = mean\n",
    "    \n",
    "\n",
    "    def BS(self):\n",
    "        NumOfSamples = self._NumOfSamples  \n",
    "        InitPrice = self._InitPrice\n",
    "        vol = self._vol\n",
    "        TimeSteps = self._TimeSteps\n",
    "        mean = self._mean\n",
    "       # dt = float(1/TimeSteps)\n",
    "        \n",
    "        drift = mean - 0.5 * vol ** 2\n",
    "        Z = np.random.normal(0, np.sqrt(dt), (NumOfSamples, TimeSteps))\n",
    "        S = np.zeros([NumOfSamples, TimeSteps])\n",
    "        S0 = InitPrice\n",
    "        S[: ,0] = S0\n",
    "        for t in range(1, TimeSteps):\n",
    "            S[:,t] = S[: ,t - 1] * np.exp(drift * dt + vol * Z[: ,t])\n",
    "        return S\n",
    "\n",
    "    def Data_Gen(self):\n",
    "        y = self.BS()\n",
    "        x = np.zeros_like(y)\n",
    "        x[ : , 0] = y[ :, 0]\n",
    "        x[ : , 1] = y[ :, 0]\n",
    "        x[: ,2: ] = y[ : ,1:-1]\n",
    "    \n",
    "    # Reshape Data for LSTM (Samples, TimeSteps, Features/NumOfAssets) #\n",
    "\n",
    "        x = x.reshape(NumOfSamples, TimeSteps, 1)\n",
    "        y = y.reshape(NumOfSamples, TimeSteps, 1)\n",
    "\n",
    "    # Split Data into train and test set #\n",
    "\n",
    "        x_train, x_test, y_train, y_test = train_test_split(x, y, test_size=0.3)\n",
    "\n",
    "    # Set type float32 #\n",
    "\n",
    "        x_train = x_train.astype(np.float32)\n",
    "        x_test = x_test.astype(np.float32)\n",
    "        y_train = y_train.astype(np.float32)\n",
    "        y_test = y_test.astype(np.float32)\n",
    "        return x_train, x_test, y_train, y_test"
   ]
  },
  {
   "cell_type": "code",
   "execution_count": 3,
   "metadata": {},
   "outputs": [
    {
     "name": "stdout",
     "output_type": "stream",
     "text": [
      "Number of Samples: 1024000\n"
     ]
    }
   ],
   "source": [
    "# Set data parameters\n",
    "\n",
    "NumOfAssets = 1\n",
    "NumOfSamples = (512 * 700 + 512 * 300 ) * 2\n",
    "TimeSteps = 30\n",
    "InitPrice = 100\n",
    "\n",
    "\n",
    "vol = 0.1 #0.1\n",
    "dt = 1/250.\n",
    "mean = 0.0 \n",
    "print(\"Number of Samples:\", NumOfSamples)"
   ]
  },
  {
   "cell_type": "code",
   "execution_count": 4,
   "metadata": {},
   "outputs": [],
   "source": [
    "# Generate Data and split it (not normalized)\n",
    "\n",
    "test = DataGenerator(NumOfSamples, TimeSteps, InitPrice, vol,dt, mean)\n",
    "\n",
    "x_train , x_test, y_train, y_test = test.Data_Gen()"
   ]
  },
  {
   "cell_type": "code",
   "execution_count": 5,
   "metadata": {},
   "outputs": [],
   "source": [
    "#plot truncated sigmoid function\n",
    "x = np.arange(-10,10, 0.1)"
   ]
  },
  {
   "cell_type": "code",
   "execution_count": 6,
   "metadata": {},
   "outputs": [],
   "source": [
    "y = tf.square(tf.maximum(tf.subtract(tf.sigmoid(x), 0.5), 0.0))"
   ]
  },
  {
   "cell_type": "code",
   "execution_count": 7,
   "metadata": {
    "scrolled": true
   },
   "outputs": [
    {
     "data": {
      "image/png": "[encoded data removed]",
      "text/plain": [
       "<Figure size 1080x360 with 1 Axes>"
      ]
     },
     "metadata": {},
     "output_type": "display_data"
    }
   ],
   "source": [
    "plt.figure(figsize = (15,5))\n",
    "plt.plot(x,y)\n",
    "plt.show()"
   ]
  },
  {
   "cell_type": "code",
   "execution_count": 8,
   "metadata": {},
   "outputs": [],
   "source": [
    "# Customize Loss function\n",
    "\n",
    "\n",
    "def loss_sigmoid_par(beta):\n",
    "    def loss_sigmoid(y_true, y_pred):\n",
    "        # set price of the option to first component of y_pred\n",
    "        V0 = y_pred[:, 0, 0]\n",
    "        # trading strategy delta for each sample and each asset other components of y_pred\n",
    "        delta = y_pred[:, 1:, :]\n",
    "        # define price increments with y_true (needed for portfolio)\n",
    "        price_incr = y_true[:, 1:, :] - y_true[:, :-1, :]\n",
    "        # implement the claim considered\n",
    "        L = tf.constant(100, dtype=\"float32\")\n",
    "        H = tf.maximum(tf.subtract(y_true[:, -1, 0], L), tf.constant(0, dtype=\"float32\"))\n",
    "        # define the portfolio for a given strategy delta\n",
    "        portfolio = tf.add(V0,\n",
    "                       tf.reduce_sum(\n",
    "                           tf.reduce_sum(\n",
    "                               tf.multiply(delta, price_incr), axis=2), axis=1))\n",
    "                                                tf.subtract(portfolio,H)))))\n",
    "     #sigmoid from tf\n",
    "        indicator = tf.square(tf.maximum(tf.subtract(\n",
    "                                            tf.sigmoid(tf.subtract(H, portfolio)),\n",
    "                                                tf.constant(0.5, dtype=\"float32\")),tf.constant(0, dtype=\"float32\")))\n",
    "        # factor to weight the probability of successful hedge\n",
    "        beta_tf = tf.constant(beta, dtype=\"float32\")\n",
    "        # second component of loss - probability of a successful hedge\n",
    "        L2 = tf.multiply(beta_tf, tf.reduce_mean(indicator))\n",
    "\n",
    "        # first component of loss function is initial price squared\n",
    "        L1 = tf.reduce_mean(tf.square(V0))\n",
    "        # loss is given by the difference of initial price squared (L1) and the scaled probability of a hedge   \n",
    "        L = tf.add(L1,L2)\n",
    "        return L\n",
    "    return loss_sigmoid"
   ]
  },
  {
   "cell_type": "code",
   "execution_count": 9,
   "metadata": {},
   "outputs": [],
   "source": [
    "# Customize metrics\n",
    "\n",
    "# Probability of hedge \n",
    "\n",
    "def prob_hedge(y_true, y_pred):\n",
    "    V0 = y_pred[:, 0, 0]\n",
    "    delta = y_pred[:, 1:, :]\n",
    "    price_incr = y_true[:, 1:, :] - y_true[:, :-1, :]\n",
    "    K = tf.constant(100, dtype =\"float32\")\n",
    "    H_m = tf.maximum(y_true[:, -1, 0] - K, 0)\n",
    "    portfolio_m = tf.add(V0,\n",
    "                       tf.reduce_sum(\n",
    "                           tf.reduce_sum(\n",
    "                               tf.multiply(delta, price_incr), axis=2), axis=1))\n",
    "    portfolio_loss = tf.where(portfolio_m >=H_m, 1.0, 0.0)\n",
    "    prob_hedge = tf.reduce_mean(portfolio_loss)\n",
    "    return prob_hedge\n",
    "\n",
    "\n",
    "\n",
    "# Predicted price per epoch\n",
    "\n",
    "def predicted_price(y_true, y_pred):\n",
    "    return y_pred[0,0,0]\n",
    "    "
   ]
  },
  {
   "cell_type": "code",
   "execution_count": 10,
   "metadata": {},
   "outputs": [
    {
     "name": "stdout",
     "output_type": "stream",
     "text": [
      "The Black-Scholes Price of the call option with strike 100 is:  1.381907502164779\n"
     ]
    }
   ],
   "source": [
    "S_BS = 100.\n",
    "L_BS = 100.\n",
    "vol_BS = 0.1\n",
    "T_BS = float(TimeSteps/250)\n",
    "r_BS = 0\n",
    "d1_BS = (np.log(S_BS/L_BS)+ (r_BS + vol_BS ** 2 / 2) * T_BS)/(vol_BS * np.sqrt(T_BS))\n",
    "d2_BS = (np.log(S_BS/L_BS)+ (r_BS - vol_BS ** 2 / 2) * T_BS)/(vol_BS * np.sqrt(T_BS))\n",
    "BS_price_call_print = (S_BS * norm.cdf(d1_BS)) - (L_BS * np.exp(-r_BS * T_BS) * norm.cdf(d2_BS))\n",
    "print(\"The Black-Scholes Price of the call option with strike 100 is: \", BS_price_call_print)"
   ]
  },
  {
   "cell_type": "code",
   "execution_count": 11,
   "metadata": {},
   "outputs": [],
   "source": [
    "#put here the path for the weight folder\n",
    "models_dir = os.path.abspath(\"weights\")\n",
    "if not os.path.exists(models_dir):\n",
    "    os.mkdir(models_dir)\n",
    "\n",
    "path_sig_200 = os.path.join(models_dir, \"sig_call_mod_200.h5\")\n",
    "path_sig_100000 = os.path.join(models_dir, \"sig_call_mod_100000.h5\")\n"
   ]
  },
  {
   "cell_type": "markdown",
   "metadata": {},
   "source": [
    "# Neural network architecture"
   ]
  },
  {
   "cell_type": "code",
   "execution_count": 12,
   "metadata": {},
   "outputs": [],
   "source": [
    "\n",
    "# model function #\n",
    "##################\n",
    "def create_model(optimizer, loss, metrics):\n",
    "    model = Sequential()\n",
    "    model.add(LSTM(units=30,\n",
    "                   return_sequences=True,\n",
    "                   input_shape=(TimeSteps, NumOfAssets),\n",
    "                   kernel_initializer = \"TruncatedNormal\",\n",
    "                   bias_initializer = \"TruncatedNormal\"))\n",
    "              \n",
    "  \n",
    "    model.add(Activation(\"swish\"))\n",
    "    model.add(LSTM(units=30, return_sequences = True,))\n",
    " \n",
    "    model.add(Activation(\"swish\"))\n",
    "\n",
    "    model.add(Dense(1))\n",
    "    model.add(Activation(\"swish\"))\n",
    "    model.compile(loss=loss, optimizer=optimizer, metrics = metrics)\n",
    "    return model\n"
   ]
  },
  {
   "cell_type": "markdown",
   "metadata": {},
   "source": [
    "# Quantile loss for lambda = 200, 100000"
   ]
  },
  {
   "cell_type": "code",
   "execution_count": 13,
   "metadata": {},
   "outputs": [],
   "source": [
    "metrics = [prob_hedge, predicted_price]\n",
    "lr = 0.0001\n",
    "optimizer = Adam(lr=lr)\n",
    "epochs = 70\n",
    "batch_size = 1024\n",
    "\n"
   ]
  },
  {
   "cell_type": "code",
   "execution_count": 14,
   "metadata": {},
   "outputs": [
    {
     "name": "stdout",
     "output_type": "stream",
     "text": [
      "Model: \"sequential\"\n",
      "_________________________________________________________________\n",
      "Layer (type)                 Output Shape              Param #   \n",
      "=================================================================\n",
      "lstm (LSTM)                  (None, 30, 30)            3840      \n",
      "_________________________________________________________________\n",
      "activation (Activation)      (None, 30, 30)            0         \n",
      "_________________________________________________________________\n",
      "lstm_1 (LSTM)                (None, 30, 30)            7320      \n",
      "_________________________________________________________________\n",
      "activation_1 (Activation)    (None, 30, 30)            0         \n",
      "_________________________________________________________________\n",
      "dense (Dense)                (None, 30, 1)             31        \n",
      "_________________________________________________________________\n",
      "activation_2 (Activation)    (None, 30, 1)             0         \n",
      "=================================================================\n",
      "Total params: 11,191\n",
      "Trainable params: 11,191\n",
      "Non-trainable params: 0\n",
      "_________________________________________________________________\n",
      "None\n"
     ]
    }
   ],
   "source": [
    "model_quantile_200 = create_model(optimizer = optimizer, loss = loss_sigmoid_par(200), metrics = metrics)\n",
    "print(model_quantile_200.summary())"
   ]
  },
  {
   "cell_type": "code",
   "execution_count": 15,
   "metadata": {},
   "outputs": [
    {
     "name": "stdout",
     "output_type": "stream",
     "text": [
      "Epoch 1/70\n",
      "700/700 [==============================] - 95s 135ms/step - loss: 12.6746 - prob_hedge: 0.1643 - diff_BS_price: 1.1510 - predicted_price: 0.2309\n",
      "Epoch 2/70\n",
      "700/700 [==============================] - 95s 136ms/step - loss: 4.6257 - prob_hedge: 0.6190 - diff_BS_price: 0.1920 - predicted_price: 1.5101\n",
      "Epoch 3/70\n",
      "700/700 [==============================] - 95s 136ms/step - loss: 3.2580 - prob_hedge: 0.6216 - diff_BS_price: 0.1679 - predicted_price: 1.5498\n",
      "Epoch 4/70\n",
      "700/700 [==============================] - 96s 136ms/step - loss: 3.0076 - prob_hedge: 0.5857 - diff_BS_price: 0.1133 - predicted_price: 1.4952\n",
      "Epoch 5/70\n",
      "700/700 [==============================] - 96s 136ms/step - loss: 2.8840 - prob_hedge: 0.5715 - diff_BS_price: 0.0895 - predicted_price: 1.4714\n",
      "Epoch 6/70\n",
      "700/700 [==============================] - 96s 137ms/step - loss: 2.7931 - prob_hedge: 0.5589 - diff_BS_price: 0.0718 - predicted_price: 1.4537\n",
      "Epoch 7/70\n",
      "700/700 [==============================] - 94s 135ms/step - loss: 2.7252 - prob_hedge: 0.5487 - diff_BS_price: 0.0580 - predicted_price: 1.4399\n",
      "Epoch 8/70\n",
      "700/700 [==============================] - 95s 135ms/step - loss: 2.6642 - prob_hedge: 0.5379 - diff_BS_price: 0.0456 - predicted_price: 1.4275\n",
      "Epoch 9/70\n",
      "700/700 [==============================] - 93s 133ms/step - loss: 2.6147 - prob_hedge: 0.5308 - diff_BS_price: 0.0352 - predicted_price: 1.4171\n",
      "Epoch 10/70\n",
      "700/700 [==============================] - 94s 134ms/step - loss: 2.5666 - prob_hedge: 0.5212 - diff_BS_price: 0.0262 - predicted_price: 1.4081\n",
      "Epoch 11/70\n",
      "700/700 [==============================] - 94s 134ms/step - loss: 2.5256 - prob_hedge: 0.5134 - diff_BS_price: 0.0185 - predicted_price: 1.4004\n",
      "Epoch 12/70\n",
      "700/700 [==============================] - 94s 134ms/step - loss: 2.4859 - prob_hedge: 0.5047 - diff_BS_price: 0.0112 - predicted_price: 1.3932\n",
      "Epoch 13/70\n",
      "700/700 [==============================] - 94s 134ms/step - loss: 2.4507 - prob_hedge: 0.4966 - diff_BS_price: 0.0044 - predicted_price: 1.3862\n",
      "Epoch 14/70\n",
      "700/700 [==============================] - 94s 134ms/step - loss: 2.4195 - prob_hedge: 0.4887 - diff_BS_price: 0.0028 - predicted_price: 1.3794\n",
      "Epoch 15/70\n",
      "700/700 [==============================] - 94s 134ms/step - loss: 2.3915 - prob_hedge: 0.4813 - diff_BS_price: 0.0081 - predicted_price: 1.3738\n",
      "Epoch 16/70\n",
      "700/700 [==============================] - 94s 134ms/step - loss: 2.3721 - prob_hedge: 0.4766 - diff_BS_price: 0.0127 - predicted_price: 1.3692\n",
      "Epoch 17/70\n",
      "700/700 [==============================] - 94s 134ms/step - loss: 2.3499 - prob_hedge: 0.4699 - diff_BS_price: 0.0169 - predicted_price: 1.3650\n",
      "Epoch 18/70\n",
      "700/700 [==============================] - 94s 134ms/step - loss: 2.3330 - prob_hedge: 0.4649 - diff_BS_price: 0.0205 - predicted_price: 1.3614\n",
      "Epoch 19/70\n",
      "700/700 [==============================] - 95s 135ms/step - loss: 2.3187 - prob_hedge: 0.4607 - diff_BS_price: 0.0234 - predicted_price: 1.3585\n",
      "Epoch 20/70\n",
      "700/700 [==============================] - 95s 135ms/step - loss: 2.3042 - prob_hedge: 0.4556 - diff_BS_price: 0.0265 - predicted_price: 1.3554\n",
      "Epoch 21/70\n",
      "700/700 [==============================] - 95s 136ms/step - loss: 2.2922 - prob_hedge: 0.4517 - diff_BS_price: 0.0291 - predicted_price: 1.3528\n",
      "Epoch 22/70\n",
      "700/700 [==============================] - 94s 134ms/step - loss: 2.2785 - prob_hedge: 0.4472 - diff_BS_price: 0.0316 - predicted_price: 1.3503\n",
      "Epoch 23/70\n",
      "700/700 [==============================] - 95s 136ms/step - loss: 2.2710 - prob_hedge: 0.4452 - diff_BS_price: 0.0336 - predicted_price: 1.3483\n",
      "Epoch 24/70\n",
      "700/700 [==============================] - 95s 136ms/step - loss: 2.2627 - prob_hedge: 0.4428 - diff_BS_price: 0.0353 - predicted_price: 1.3466\n",
      "Epoch 25/70\n",
      "700/700 [==============================] - 95s 136ms/step - loss: 2.2552 - prob_hedge: 0.4405 - diff_BS_price: 0.0370 - predicted_price: 1.3449\n",
      "Epoch 26/70\n",
      "700/700 [==============================] - 93s 132ms/step - loss: 2.2472 - prob_hedge: 0.4374 - diff_BS_price: 0.0386 - predicted_price: 1.3433\n",
      "Epoch 27/70\n",
      "700/700 [==============================] - 94s 134ms/step - loss: 2.2408 - prob_hedge: 0.4351 - diff_BS_price: 0.0399 - predicted_price: 1.3420\n",
      "Epoch 28/70\n",
      "700/700 [==============================] - 94s 134ms/step - loss: 2.2357 - prob_hedge: 0.4335 - diff_BS_price: 0.0411 - predicted_price: 1.3409\n",
      "Epoch 29/70\n",
      "700/700 [==============================] - 94s 134ms/step - loss: 2.2299 - prob_hedge: 0.4311 - diff_BS_price: 0.0422 - predicted_price: 1.3397\n",
      "Epoch 30/70\n",
      "700/700 [==============================] - 93s 133ms/step - loss: 2.2280 - prob_hedge: 0.4317 - diff_BS_price: 0.0428 - predicted_price: 1.3391\n",
      "Epoch 31/70\n",
      "700/700 [==============================] - 90s 129ms/step - loss: 2.2228 - prob_hedge: 0.4291 - diff_BS_price: 0.0438 - predicted_price: 1.3381\n",
      "Epoch 32/70\n",
      "700/700 [==============================] - 91s 130ms/step - loss: 2.2186 - prob_hedge: 0.4272 - diff_BS_price: 0.0447 - predicted_price: 1.3372\n",
      "Epoch 33/70\n",
      "700/700 [==============================] - 91s 130ms/step - loss: 2.2134 - prob_hedge: 0.4248 - diff_BS_price: 0.0459 - predicted_price: 1.3360\n",
      "Epoch 34/70\n",
      "700/700 [==============================] - 91s 130ms/step - loss: 2.2136 - prob_hedge: 0.4262 - diff_BS_price: 0.0459 - predicted_price: 1.3360\n",
      "Epoch 35/70\n",
      "700/700 [==============================] - 91s 130ms/step - loss: 2.2074 - prob_hedge: 0.4226 - diff_BS_price: 0.0471 - predicted_price: 1.3348\n",
      "Epoch 36/70\n",
      "700/700 [==============================] - 91s 129ms/step - loss: 2.2064 - prob_hedge: 0.4228 - diff_BS_price: 0.0474 - predicted_price: 1.3345\n",
      "Epoch 37/70\n",
      "700/700 [==============================] - 91s 130ms/step - loss: 2.2017 - prob_hedge: 0.4203 - diff_BS_price: 0.0483 - predicted_price: 1.3336\n",
      "Epoch 38/70\n",
      "700/700 [==============================] - 91s 130ms/step - loss: 2.2003 - prob_hedge: 0.4201 - diff_BS_price: 0.0487 - predicted_price: 1.3332\n",
      "Epoch 39/70\n",
      "700/700 [==============================] - 91s 129ms/step - loss: 2.1983 - prob_hedge: 0.4197 - diff_BS_price: 0.0491 - predicted_price: 1.3328\n",
      "Epoch 40/70\n",
      "700/700 [==============================] - 91s 130ms/step - loss: 2.1965 - prob_hedge: 0.4188 - diff_BS_price: 0.0496 - predicted_price: 1.3323\n",
      "Epoch 41/70\n",
      "700/700 [==============================] - 92s 131ms/step - loss: 2.1950 - prob_hedge: 0.4182 - diff_BS_price: 0.0499 - predicted_price: 1.3320\n",
      "Epoch 42/70\n",
      "700/700 [==============================] - 92s 131ms/step - loss: 2.1903 - prob_hedge: 0.4154 - diff_BS_price: 0.0508 - predicted_price: 1.3311\n",
      "Epoch 43/70\n",
      "700/700 [==============================] - 92s 131ms/step - loss: 2.1891 - prob_hedge: 0.4154 - diff_BS_price: 0.0510 - predicted_price: 1.3309\n",
      "Epoch 44/70\n",
      "700/700 [==============================] - 92s 131ms/step - loss: 2.1900 - prob_hedge: 0.4166 - diff_BS_price: 0.0511 - predicted_price: 1.3308\n",
      "Epoch 45/70\n",
      "700/700 [==============================] - 92s 132ms/step - loss: 2.1856 - prob_hedge: 0.4144 - diff_BS_price: 0.0517 - predicted_price: 1.3302\n",
      "Epoch 46/70\n",
      "700/700 [==============================] - 92s 132ms/step - loss: 2.1861 - prob_hedge: 0.4154 - diff_BS_price: 0.0519 - predicted_price: 1.3300\n",
      "Epoch 47/70\n",
      "700/700 [==============================] - 92s 132ms/step - loss: 2.1845 - prob_hedge: 0.4141 - diff_BS_price: 0.0521 - predicted_price: 1.3298\n",
      "Epoch 48/70\n",
      "700/700 [==============================] - 93s 132ms/step - loss: 2.1828 - prob_hedge: 0.4136 - diff_BS_price: 0.0526 - predicted_price: 1.3293\n",
      "Epoch 49/70\n",
      "700/700 [==============================] - 93s 132ms/step - loss: 2.1815 - prob_hedge: 0.4131 - diff_BS_price: 0.0528 - predicted_price: 1.3291\n",
      "Epoch 50/70\n",
      "700/700 [==============================] - 92s 132ms/step - loss: 2.1792 - prob_hedge: 0.4121 - diff_BS_price: 0.0533 - predicted_price: 1.3286\n",
      "Epoch 51/70\n",
      "700/700 [==============================] - 93s 133ms/step - loss: 2.1797 - prob_hedge: 0.4130 - diff_BS_price: 0.0532 - predicted_price: 1.3287\n",
      "Epoch 52/70\n",
      "700/700 [==============================] - 93s 133ms/step - loss: 2.1788 - prob_hedge: 0.4116 - diff_BS_price: 0.0535 - predicted_price: 1.3284\n",
      "Epoch 53/70\n",
      "700/700 [==============================] - 91s 130ms/step - loss: 2.1765 - prob_hedge: 0.4111 - diff_BS_price: 0.0539 - predicted_price: 1.3280\n",
      "Epoch 54/70\n",
      "700/700 [==============================] - 92s 131ms/step - loss: 2.1756 - prob_hedge: 0.4109 - diff_BS_price: 0.0540 - predicted_price: 1.3279\n",
      "Epoch 55/70\n",
      "700/700 [==============================] - 92s 131ms/step - loss: 2.1746 - prob_hedge: 0.4103 - diff_BS_price: 0.0543 - predicted_price: 1.3276\n",
      "Epoch 56/70\n",
      "700/700 [==============================] - 92s 132ms/step - loss: 2.1731 - prob_hedge: 0.4098 - diff_BS_price: 0.0546 - predicted_price: 1.3273\n",
      "Epoch 57/70\n",
      "700/700 [==============================] - 92s 132ms/step - loss: 2.1737 - prob_hedge: 0.4105 - diff_BS_price: 0.0546 - predicted_price: 1.3274\n",
      "Epoch 58/70\n",
      "700/700 [==============================] - 92s 132ms/step - loss: 2.1715 - prob_hedge: 0.4090 - diff_BS_price: 0.0549 - predicted_price: 1.3270\n",
      "Epoch 59/70\n",
      "700/700 [==============================] - 92s 132ms/step - loss: 2.1696 - prob_hedge: 0.4085 - diff_BS_price: 0.0552 - predicted_price: 1.3267\n",
      "Epoch 60/70\n",
      "700/700 [==============================] - 92s 132ms/step - loss: 2.1691 - prob_hedge: 0.4085 - diff_BS_price: 0.0555 - predicted_price: 1.3264\n",
      "Epoch 61/70\n",
      "700/700 [==============================] - 92s 132ms/step - loss: 2.1675 - prob_hedge: 0.4075 - diff_BS_price: 0.0556 - predicted_price: 1.3263\n",
      "Epoch 62/70\n",
      "700/700 [==============================] - 91s 131ms/step - loss: 2.1675 - prob_hedge: 0.4072 - diff_BS_price: 0.0557 - predicted_price: 1.3262\n",
      "Epoch 63/70\n",
      "700/700 [==============================] - 92s 132ms/step - loss: 2.1684 - prob_hedge: 0.4085 - diff_BS_price: 0.0557 - predicted_price: 1.3262\n",
      "Epoch 64/70\n",
      "700/700 [==============================] - 91s 130ms/step - loss: 2.1654 - prob_hedge: 0.4068 - diff_BS_price: 0.0561 - predicted_price: 1.3258\n",
      "Epoch 65/70\n",
      "700/700 [==============================] - 91s 130ms/step - loss: 2.1654 - prob_hedge: 0.4070 - diff_BS_price: 0.0562 - predicted_price: 1.3257\n",
      "Epoch 66/70\n",
      "700/700 [==============================] - 91s 130ms/step - loss: 2.1638 - prob_hedge: 0.4062 - diff_BS_price: 0.0565 - predicted_price: 1.3254\n",
      "Epoch 67/70\n",
      "700/700 [==============================] - 91s 130ms/step - loss: 2.1636 - prob_hedge: 0.4063 - diff_BS_price: 0.0565 - predicted_price: 1.3254\n",
      "Epoch 68/70\n",
      "700/700 [==============================] - 91s 130ms/step - loss: 2.1626 - prob_hedge: 0.4056 - diff_BS_price: 0.0567 - predicted_price: 1.3252\n",
      "Epoch 69/70\n",
      "700/700 [==============================] - 92s 131ms/step - loss: 2.1613 - prob_hedge: 0.4049 - diff_BS_price: 0.0570 - predicted_price: 1.3249\n",
      "Epoch 70/70\n",
      "700/700 [==============================] - 92s 131ms/step - loss: 2.1601 - prob_hedge: 0.4045 - diff_BS_price: 0.0572 - predicted_price: 1.3247\n"
     ]
    }
   ],
   "source": [
    "hist_200 = model_quantile_200.fit(x_train, y_train, epochs = epochs, batch_size = batch_size)"
   ]
  },
  {
   "cell_type": "code",
   "execution_count": 16,
   "metadata": {},
   "outputs": [],
   "source": [
    "#weights can be saved here\n",
    "\n",
    "#model_quantile_200.save_weights(filepath = path_sig_200)"
   ]
  },
  {
   "cell_type": "code",
   "execution_count": 17,
   "metadata": {},
   "outputs": [],
   "source": [
    "#model_quantile_200.load_weights(path_sig_200)"
   ]
  },
  {
   "cell_type": "code",
   "execution_count": 18,
   "metadata": {},
   "outputs": [],
   "source": [
    "#prediction on the test set\n",
    "delta_200 = model_quantile_200.predict(x_test)"
   ]
  },
  {
   "cell_type": "code",
   "execution_count": 19,
   "metadata": {},
   "outputs": [
    {
     "name": "stdout",
     "output_type": "stream",
     "text": [
      "1.3273981\n"
     ]
    }
   ],
   "source": [
    "print('The predicted approximate superhedging price is:' , delta_200[0,0,0])"
   ]
  },
  {
   "cell_type": "code",
   "execution_count": 20,
   "metadata": {},
   "outputs": [],
   "source": [
    "K = tf.constant(100, dtype=\"float32\")\n",
    "H_200 = tf.maximum(tf.subtract(y_test[ :, -1,0], K), tf.constant(0, dtype=\"float32\"))\n",
    "price_incr = tf.subtract(y_test[:,1:,:] , y_test[:, :-1,:])\n",
    "\n",
    "port_pred_200 = tf.add(delta_200[ :, 0,0],\n",
    "                       tf.reduce_sum(\n",
    "                           tf.reduce_sum(\n",
    "                               tf.multiply(delta_200[:, 1:,:], price_incr), axis=2), axis=1))\n",
    "\n",
    "\n",
    "z_200 = tf.subtract(port_pred_200, H_200)"
   ]
  },
  {
   "cell_type": "code",
   "execution_count": 21,
   "metadata": {},
   "outputs": [
    {
     "data": {
      "image/png": "[encoded data removed]",
      "text/plain": [
       "<Figure size 720x720 with 1 Axes>"
      ]
     },
     "metadata": {},
     "output_type": "display_data"
    }
   ],
   "source": [
    "n_bins = 50\n",
    "\n",
    "plt.figure(figsize = (10,10))\n",
    "plt.hist(z_200, bins=n_bins)\n",
    "plt.title(\"Test set quantile loss - lambda = 200\")\n",
    "plt.show()"
   ]
  },
  {
   "cell_type": "code",
   "execution_count": 22,
   "metadata": {},
   "outputs": [
    {
     "name": "stdout",
     "output_type": "stream",
     "text": [
      "The hedging probability on the test set is: tf.Tensor(0.40716144, shape=(), dtype=float32)\n"
     ]
    }
   ],
   "source": [
    "prob_hedg_200 = tf.reduce_mean(tf.where(z_200 >= 0, 1.0, 0.))\n",
    "print(\"The hedging probability on the test set is:\" , prob_hedg_200)"
   ]
  },
  {
   "cell_type": "code",
   "execution_count": 23,
   "metadata": {},
   "outputs": [],
   "source": [
    "metrics = [prob_hedge, predicted_price]\n",
    "lr = 0.0001\n",
    "optimizer = Adam(lr=lr)\n",
    "epochs = 70\n",
    "batch_size = 1024\n",
    "\n"
   ]
  },
  {
   "cell_type": "code",
   "execution_count": 24,
   "metadata": {},
   "outputs": [
    {
     "name": "stdout",
     "output_type": "stream",
     "text": [
      "Model: \"sequential_1\"\n",
      "_________________________________________________________________\n",
      "Layer (type)                 Output Shape              Param #   \n",
      "=================================================================\n",
      "lstm_2 (LSTM)                (None, 30, 30)            3840      \n",
      "_________________________________________________________________\n",
      "activation_3 (Activation)    (None, 30, 30)            0         \n",
      "_________________________________________________________________\n",
      "lstm_3 (LSTM)                (None, 30, 30)            7320      \n",
      "_________________________________________________________________\n",
      "activation_4 (Activation)    (None, 30, 30)            0         \n",
      "_________________________________________________________________\n",
      "dense_1 (Dense)              (None, 30, 1)             31        \n",
      "_________________________________________________________________\n",
      "activation_5 (Activation)    (None, 30, 1)             0         \n",
      "=================================================================\n",
      "Total params: 11,191\n",
      "Trainable params: 11,191\n",
      "Non-trainable params: 0\n",
      "_________________________________________________________________\n",
      "None\n"
     ]
    }
   ],
   "source": [
    "model_quantile_100000 = create_model(optimizer = optimizer, loss = loss_sigmoid_par(100000), metrics = metrics)\n",
    "print(model_quantile_100000.summary())"
   ]
  },
  {
   "cell_type": "code",
   "execution_count": 25,
   "metadata": {},
   "outputs": [],
   "source": [
    "hist_100000 = model_quantile_100000.fit(x_train, y_train, epochs = epochs, batch_size = batch_size)"
   ]
  },
  {
   "cell_type": "code",
   "execution_count": 26,
   "metadata": {},
   "outputs": [],
   "source": [
    "#model_quantile_100000.save_weights(filepath = path_sig_100000)"
   ]
  },
  {
   "cell_type": "code",
   "execution_count": 27,
   "metadata": {},
   "outputs": [],
   "source": [
    "#model_quantile_100000.load_weights(path_sig_100000)"
   ]
  },
  {
   "cell_type": "code",
   "execution_count": 28,
   "metadata": {},
   "outputs": [],
   "source": [
    "delta_100000 = model_quantile_100000.predict(x_test)"
   ]
  },
  {
   "cell_type": "code",
   "execution_count": 29,
   "metadata": {},
   "outputs": [],
   "source": [
    "K = tf.constant(100, dtype=\"float32\")\n",
    "H_100000 = tf.maximum(tf.subtract(y_test[ :, -1,0], K), tf.constant(0, dtype=\"float32\"))\n",
    "price_incr = tf.subtract(y_test[:,1:,:] , y_test[:, :-1,:])\n",
    "\n",
    "port_pred_100000 = tf.add(delta_100000[ :, 0,0],\n",
    "                       tf.reduce_sum(\n",
    "                           tf.reduce_sum(\n",
    "                               tf.multiply(delta_100000[:, 1:,:], price_incr), axis=2), axis=1))\n",
    "\n",
    "\n",
    "z_100000 = tf.subtract(port_pred_100000, H_100000)"
   ]
  },
  {
   "cell_type": "code",
   "execution_count": 30,
   "metadata": {},
   "outputs": [
    {
     "name": "stdout",
     "output_type": "stream",
     "text": [
      "2.0951562\n"
     ]
    }
   ],
   "source": [
    "print('The predicted approximate superhedging price is:', delta_100000[0,0,0])"
   ]
  },
  {
   "cell_type": "code",
   "execution_count": 31,
   "metadata": {},
   "outputs": [
    {
     "name": "stdout",
     "output_type": "stream",
     "text": [
      "The hedging probability on the test set is: tf.Tensor(0.9965527, shape=(), dtype=float32)\n"
     ]
    }
   ],
   "source": [
    "prob_hedg_100000 = tf.reduce_mean(tf.where(z_100000 >= 0, 1.0, 0.))\n",
    "print(\"The hedging probability on the test set is:\" , prob_hedg_100000)"
   ]
  },
  {
   "cell_type": "code",
   "execution_count": 32,
   "metadata": {},
   "outputs": [
    {
     "data": {
      "image/png": "[encoded data removed]",
      "text/plain": [
       "<Figure size 720x720 with 1 Axes>"
      ]
     },
     "metadata": {},
     "output_type": "display_data"
    }
   ],
   "source": [
    "n_bins = 50\n",
    "\n",
    "\n",
    "plt.figure(figsize = (10,10))\n",
    "plt.hist(z_100000, bins=n_bins)\n",
    "\n",
    "\n",
    "\n",
    "plt.show()"
   ]
  },
  {
   "cell_type": "code",
   "execution_count": 33,
   "metadata": {},
   "outputs": [
    {
     "data": {
      "image/png": "[encoded data removed]",
      "text/plain": [
       "<Figure size 720x720 with 1 Axes>"
      ]
     },
     "metadata": {},
     "output_type": "display_data"
    }
   ],
   "source": [
    "n_bins = 50\n",
    "\n",
    "\n",
    "plt.figure(figsize = (10,10))\n",
    "plt.hist(z_200, alpha = 0.5 ,bins=n_bins, label = \"Lambda = 200\")\n",
    "plt.hist(z_10000, alpha = 0.5 ,bins=n_bins, label = \"Lambda = 100000\")\n",
    "plt.legend()\n",
    "\n",
    "\n",
    "plt.show()"
   ]
  },
  {
   "cell_type": "markdown",
   "metadata": {},
   "source": [
    "# Comparison Black-Scholes"
   ]
  },
  {
   "cell_type": "code",
   "execution_count": 34,
   "metadata": {},
   "outputs": [],
   "source": [
    "def delta_BS(S, sigma = vol, K = 100., r = 0., TimeSteps =TimeSteps, T = TimeSteps * dt):\n",
    "    delta_hedge = []\n",
    "    time_steps = TimeSteps\n",
    "    for i in range(time_steps-1):\n",
    "        i_ratio = float(i) * dt\n",
    "        delta = (norm.cdf((np.log(S[ :, i]/K)\n",
    "                              + ( r + sigma ** 2 / 2)\n",
    "                              * (T - i_ratio))/ (sigma * np.sqrt(T - i_ratio))))\n",
    "        delta_hedge.append(delta)\n",
    "    delta_hedge = np.stack(delta_hedge, axis = 1)\n",
    "    return delta_hedge\n",
    "\n",
    "\n",
    "d1_BS = (np.log(S_BS/L_BS)+ (r_BS + vol_BS ** 2 / 2) * T_BS)/(vol_BS * np.sqrt(T_BS))"
   ]
  },
  {
   "cell_type": "code",
   "execution_count": 35,
   "metadata": {},
   "outputs": [],
   "source": [
    "hedge_BS = delta_BS(S = y_test, sigma = vol, K = 100., r = 0., TimeSteps = TimeSteps, T = TimeSteps * dt)"
   ]
  },
  {
   "cell_type": "code",
   "execution_count": 36,
   "metadata": {},
   "outputs": [],
   "source": [
    "H_BS = np.maximum(y_test[ :, -1,0]- 100, 0)"
   ]
  },
  {
   "cell_type": "code",
   "execution_count": 37,
   "metadata": {},
   "outputs": [],
   "source": [
    "price_incr = y_test[ : , 1: ,:] - y_test[:, :-1,:]"
   ]
  },
  {
   "cell_type": "code",
   "execution_count": 38,
   "metadata": {},
   "outputs": [],
   "source": [
    "v = np.array(1.381907502164779)\n",
    "\n",
    "port_BS = tf.add(v,\n",
    "                    tf.reduce_sum(\n",
    "                           tf.reduce_sum(\n",
    "                               tf.multiply(hedge_BS, price_incr), axis=2), axis=1))"
   ]
  },
  {
   "cell_type": "code",
   "execution_count": 39,
   "metadata": {},
   "outputs": [],
   "source": [
    "z_BS = np.subtract(port_BS, H_BS)"
   ]
  },
  {
   "cell_type": "code",
   "execution_count": 40,
   "metadata": {},
   "outputs": [
    {
     "name": "stdout",
     "output_type": "stream",
     "text": [
      "Superhedging probability with the BS delta strategy:  tf.Tensor(0.5368913, shape=(), dtype=float32)\n"
     ]
    }
   ],
   "source": [
    "prob_delta = tf.reduce_mean(tf.where(z_BS >= 0, 1., 0.))\n",
    "print(\"Superhedging probability with the BS delta strategy: \", prob_delta)"
   ]
  },
  {
   "cell_type": "code",
   "execution_count": 41,
   "metadata": {},
   "outputs": [
    {
     "data": {
      "image/png": "[encoded data removed]",
      "text/plain": [
       "<Figure size 720x720 with 1 Axes>"
      ]
     },
     "metadata": {},
     "output_type": "display_data"
    }
   ],
   "source": [
    "n_bins = 50\n",
    "\n",
    "plt.figure(figsize = (10,10))\n",
    "plt.hist(z_50, bins = n_bins, alpha = 0.5, label = \"Lambda = 200\")\n",
    "plt.hist(z_BS, bins = n_bins, alpha = 0.5, label = \"Delta hedging\")\n",
    "\n",
    "\n",
    "plt.legend()\n",
    "\n",
    "plt.show()"
   ]
  },
  {
   "cell_type": "code",
   "execution_count": 42,
   "metadata": {},
   "outputs": [
    {
     "data": {
      "image/png": "[encoded data removed]",
      "text/plain": [
       "<Figure size 720x720 with 1 Axes>"
      ]
     },
     "metadata": {},
     "output_type": "display_data"
    }
   ],
   "source": [
    "n_bins = 50\n",
    "\n",
    "plt.figure(figsize = (10,10))\n",
    "\n",
    "plt.hist(z_100000, bins=n_bins, alpha = 0.5, label = \"Superhedging - lambda = 100000\")\n",
    "plt.hist(z_BS, bins=n_bins, alpha = 0.5, label = \"Black Scholes delta hedging strategy\")\n",
    "\n",
    "\n",
    "#plt.savefig(\"delta_vs_10000.png\")\n",
    "plt.show()"
   ]
  },
  {
   "cell_type": "code",
   "execution_count": null,
   "metadata": {},
   "outputs": [],
   "source": []
  },
  {
   "cell_type": "code",
   "execution_count": null,
   "metadata": {},
   "outputs": [],
   "source": []
  }
 ],
 "metadata": {
  "kernelspec": {
   "display_name": "Python 3",
   "language": "python",
   "name": "python3"
  },
  "language_info": {
   "codemirror_mode": {
    "name": "ipython",
    "version": 3
   },
   "file_extension": ".py",
   "mimetype": "text/x-python",
   "name": "python",
   "nbconvert_exporter": "python",
   "pygments_lexer": "ipython3",
   "version": "3.7.6"
  }
 },
 "nbformat": 4,
 "nbformat_minor": 4
}

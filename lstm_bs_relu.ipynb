{
 "cells": [
  {
   "cell_type": "code",
   "execution_count": 1,
   "metadata": {},
   "outputs": [],
   "source": [
    "# Import Statements\n",
    "\n",
    "import os\n",
    "\n",
    "import numpy as np\n",
    "import pandas as pd\n",
    "import math as m\n",
    "\n",
    "import matplotlib.pyplot as plt\n",
    "\n",
    "from sklearn.model_selection import train_test_split\n",
    "from sklearn.preprocessing import MinMaxScaler\n",
    "from sklearn.preprocessing import StandardScaler\n",
    "\n",
    "import keras.backend as K\n",
    "import tensorflow as tf\n",
    "from tensorflow.keras.layers import *\n",
    "from tensorflow.keras.activations import *\n",
    "from tensorflow.keras.models import *\n",
    "from tensorflow.keras.optimizers import *\n",
    "from tensorflow.keras.initializers import *\n",
    "from tensorflow.keras.callbacks import TensorBoard\n",
    "\n",
    "from scipy.stats import norm\n",
    "\n",
    "from plotting import *\n",
    "\n",
    "np.random.seed(1)"
   ]
  },
  {
   "cell_type": "code",
   "execution_count": 2,
   "metadata": {},
   "outputs": [],
   "source": [
    "# Data Generator Class\n",
    "\n",
    "class DataGenerator:\n",
    "\n",
    "    def __init__(self, NumOfSamples, TimeSteps, InitPrice, vol,dt, mean):\n",
    "        self._NumOfSamples = NumOfSamples\n",
    "        self._TimeSteps = TimeSteps\n",
    "        self._InitPrice = InitPrice       \n",
    "        self._vol = vol\n",
    "        self._dt = dt\n",
    "        self._mean = mean\n",
    "    \n",
    "\n",
    "    def BS(self):\n",
    "        NumOfSamples = self._NumOfSamples  \n",
    "        InitPrice = self._InitPrice\n",
    "        vol = self._vol\n",
    "        TimeSteps = self._TimeSteps\n",
    "        mean = self._mean\n",
    "       # dt = float(1/TimeSteps)\n",
    "        \n",
    "        drift = mean - 0.5 * vol ** 2\n",
    "        Z = np.random.normal(0, np.sqrt(dt), (NumOfSamples, TimeSteps))\n",
    "        S = np.zeros([NumOfSamples, TimeSteps])\n",
    "        S0 = InitPrice\n",
    "        S[: ,0] = S0\n",
    "        for t in range(1, TimeSteps):\n",
    "            S[:,t] = S[: ,t - 1] * np.exp(drift * dt + vol * Z[: ,t])\n",
    "        return S\n",
    "\n",
    "    def Data_Gen(self):\n",
    "        y = self.BS()\n",
    "        x = np.zeros_like(y)\n",
    "        x[ : , 0] = y[ :, 0]\n",
    "        x[ : , 1] = y[ :, 0]\n",
    "        x[: ,2: ] = y[ : ,1:-1]\n",
    "    \n",
    "    # Reshape Data for LSTM (Samples, TimeSteps, Features/NumOfAssets) #\n",
    "\n",
    "        x = x.reshape(NumOfSamples, TimeSteps, 1)\n",
    "        y = y.reshape(NumOfSamples, TimeSteps, 1)\n",
    "\n",
    "    # Split Data into train and test set #\n",
    "\n",
    "        x_train, x_test, y_train, y_test = train_test_split(x, y, test_size=0.3)\n",
    "\n",
    "    # Set type float32 #\n",
    "\n",
    "        x_train = x_train.astype(np.float32)\n",
    "        x_test = x_test.astype(np.float32)\n",
    "        y_train = y_train.astype(np.float32)\n",
    "        y_test = y_test.astype(np.float32)\n",
    "        return x_train, x_test, y_train, y_test"
   ]
  },
  {
   "cell_type": "code",
   "execution_count": 3,
   "metadata": {},
   "outputs": [
    {
     "name": "stdout",
     "output_type": "stream",
     "text": [
      "Number of Samples: 1024000\n"
     ]
    }
   ],
   "source": [
    "# Set data parameters\n",
    "\n",
    "NumOfAssets = 1\n",
    "NumOfSamples = (512 * 700 + 512 * 300 ) * 2\n",
    "TimeSteps = 30\n",
    "InitPrice = 100\n",
    "\n",
    "\n",
    "vol = 0.1 #0.1\n",
    "dt = 1/250.\n",
    "mean = 0.0 #0.0\n",
    "print(\"Number of Samples:\", NumOfSamples)"
   ]
  },
  {
   "cell_type": "code",
   "execution_count": 4,
   "metadata": {},
   "outputs": [],
   "source": [
    "# Generate Data and split it (not normalized)\n",
    "\n",
    "test = DataGenerator(NumOfSamples, TimeSteps, InitPrice, vol,dt, mean)\n",
    "\n",
    "x_train , x_test, y_train, y_test = test.Data_Gen()"
   ]
  },
  {
   "cell_type": "code",
   "execution_count": 5,
   "metadata": {},
   "outputs": [],
   "source": [
    "# Customize Loss function\n",
    "\n",
    "def loss_quantile_par(beta):\n",
    "    def loss_quantile(y_true, y_pred):\n",
    "        # set price of the option to first component of y_pred\n",
    "        V0 = y_pred[:, 0, 0]\n",
    "        # trading strategy delta for each sample and each asset other components of y_pred\n",
    "        delta = y_pred[:, 1:, :]\n",
    "        # define price increments with y_true (needed for portfolio)\n",
    "        price_incr = y_true[:, 1:, :] - y_true[:, :-1, :]\n",
    "        # implement the claim considered\n",
    "        L = tf.constant(100, dtype=\"float32\")\n",
    "        H = tf.maximum(tf.subtract(y_true[:, -1, 0], L), tf.constant(0, dtype=\"float32\"))\n",
    "        # define the portfolio for a given strategy delta\n",
    "        portfolio = tf.add(V0,\n",
    "                       tf.reduce_sum(\n",
    "                           tf.reduce_sum(\n",
    "                               tf.multiply(delta, price_incr), axis=2), axis=1))\n",
    "    \n",
    "        indicator = tf.square(tf.nn.relu(tf.subtract(H, portfolio)))\n",
    "        # factor to weight the probability of successful hedge\n",
    "        beta_tf = tf.constant(beta, dtype=\"float32\")\n",
    "        # second component of loss - probability of a successful hedge\n",
    "        L2 = tf.multiply(beta_tf, tf.reduce_mean(indicator))\n",
    "\n",
    "        # first component of loss function is initial price squared\n",
    "        L1 = tf.reduce_mean(tf.square(V0))\n",
    "        # loss is given by the difference of initial price squared (L1) and the scaled probability of a hedge   \n",
    "        L = tf.add(L1,L2)\n",
    "        return L\n",
    "    return loss_quantile\n"
   ]
  },
  {
   "cell_type": "code",
   "execution_count": 6,
   "metadata": {},
   "outputs": [],
   "source": [
    "# Customize metrics\n",
    "\n",
    "# Probability of hedge \n",
    "\n",
    "def prob_hedge(y_true, y_pred):\n",
    "    V0 = y_pred[:, 0, 0]\n",
    "    delta = y_pred[:, 1:, :]\n",
    "    price_incr = y_true[:, 1:, :] - y_true[:, :-1, :]\n",
    "    K = tf.constant(100, dtype =\"float32\")\n",
    "    H_m = tf.maximum(y_true[:, -1, 0] - K, 0)\n",
    "    portfolio_m = tf.add(V0,\n",
    "                       tf.reduce_sum(\n",
    "                           tf.reduce_sum(\n",
    "                               tf.multiply(delta, price_incr), axis=2), axis=1))\n",
    "    portfolio_loss = tf.where(portfolio_m >=H_m, 1.0, 0.0)\n",
    "    prob_hedge = tf.reduce_mean(portfolio_loss)\n",
    "    return prob_hedge\n",
    "\n",
    "\n",
    "# Predicted price per epoch\n",
    "\n",
    "def predicted_price(y_true, y_pred):\n",
    "    return y_pred[0,0,0]\n",
    "    "
   ]
  },
  {
   "cell_type": "code",
   "execution_count": 7,
   "metadata": {},
   "outputs": [
    {
     "name": "stdout",
     "output_type": "stream",
     "text": [
      "The Black-Scholes Price of the call option with strike 100 is:  1.381907502164779\n"
     ]
    }
   ],
   "source": [
    "S_BS = 100.\n",
    "L_BS = 100.\n",
    "vol_BS = 0.1\n",
    "T_BS = float(TimeSteps/250)\n",
    "r_BS = 0\n",
    "d1_BS = (np.log(S_BS/L_BS)+ (r_BS + vol_BS ** 2 / 2) * T_BS)/(vol_BS * np.sqrt(T_BS))\n",
    "d2_BS = (np.log(S_BS/L_BS)+ (r_BS - vol_BS ** 2 / 2) * T_BS)/(vol_BS * np.sqrt(T_BS))\n",
    "BS_price_call_print = (S_BS * norm.cdf(d1_BS)) - (L_BS * np.exp(-r_BS * T_BS) * norm.cdf(d2_BS))\n",
    "print(\"The Black-Scholes Price of the call option with strike 100 is: \", BS_price_call_print)"
   ]
  },
  {
   "cell_type": "code",
   "execution_count": 8,
   "metadata": {},
   "outputs": [],
   "source": [
    "#Put here the path for the weight folder\n",
    "models_dir = os.path.abspath(\"weights\")\n",
    "if not os.path.exists(models_dir):\n",
    "    os.mkdir(models_dir)\n",
    "\n",
    "path_quant_50 = os.path.join(models_dir, \"quant_call_50.h5\")\n",
    "path_quant_10000 = os.path.join(models_dir, \"quant_call_10000.h5\")\n"
   ]
  },
  {
   "cell_type": "markdown",
   "metadata": {},
   "source": [
    "# Neural network architecture"
   ]
  },
  {
   "cell_type": "code",
   "execution_count": 9,
   "metadata": {},
   "outputs": [],
   "source": [
    "\n",
    "# model function #\n",
    "##################\n",
    "def create_model(optimizer, loss, metrics):\n",
    "    model = Sequential()\n",
    "    model.add(LSTM(units=30,\n",
    "                   return_sequences=True,\n",
    "                   input_shape=(TimeSteps, NumOfAssets),\n",
    "                   kernel_initializer = \"TruncatedNormal\",\n",
    "                   bias_initializer = \"TruncatedNormal\"))\n",
    "           \n",
    "    model.add(Activation(\"swish\"))\n",
    "    model.add(LSTM(units=30, return_sequences = True,))\n",
    " \n",
    "    model.add(Activation(\"swish\"))\n",
    "\n",
    "    model.add(Dense(1))\n",
    "    model.add(Activation(\"swish\"))\n",
    "    model.compile(loss=loss, optimizer=optimizer, metrics = metrics)\n",
    "    return model\n"
   ]
  },
  {
   "cell_type": "markdown",
   "metadata": {},
   "source": [
    "# Quantile loss for lambda = 50, 10000"
   ]
  },
  {
   "cell_type": "code",
   "execution_count": 10,
   "metadata": {},
   "outputs": [],
   "source": [
    "metrics = [prob_hedge, predicted_price]\n",
    "lr = 0.0001\n",
    "optimizer = Adam(lr=lr)\n",
    "epochs = 50\n",
    "batch_size = 1024\n",
    "\n"
   ]
  },
  {
   "cell_type": "code",
   "execution_count": 11,
   "metadata": {},
   "outputs": [
    {
     "name": "stdout",
     "output_type": "stream",
     "text": [
      "Model: \"sequential\"\n",
      "_________________________________________________________________\n",
      "Layer (type)                 Output Shape              Param #   \n",
      "=================================================================\n",
      "lstm (LSTM)                  (None, 30, 30)            3840      \n",
      "_________________________________________________________________\n",
      "activation (Activation)      (None, 30, 30)            0         \n",
      "_________________________________________________________________\n",
      "lstm_1 (LSTM)                (None, 30, 30)            7320      \n",
      "_________________________________________________________________\n",
      "activation_1 (Activation)    (None, 30, 30)            0         \n",
      "_________________________________________________________________\n",
      "dense (Dense)                (None, 30, 1)             31        \n",
      "_________________________________________________________________\n",
      "activation_2 (Activation)    (None, 30, 1)             0         \n",
      "=================================================================\n",
      "Total params: 11,191\n",
      "Trainable params: 11,191\n",
      "Non-trainable params: 0\n",
      "_________________________________________________________________\n",
      "None\n"
     ]
    }
   ],
   "source": [
    "model_quantile_50 = create_model(optimizer = optimizer, loss = loss_quantile_par(50), metrics = metrics)\n",
    "print(model_quantile_50.summary())"
   ]
  },
  {
   "cell_type": "code",
   "execution_count": 12,
   "metadata": {},
   "outputs": [],
   "source": [
    "#hist_50 = model_quantile_50.fit(x_train, y_train, epochs = epochs, batch_size = batch_size)"
   ]
  },
  {
   "cell_type": "code",
   "execution_count": 13,
   "metadata": {},
   "outputs": [],
   "source": [
    "#model_quantile_50.save_weights(filepath = path_quant_50)"
   ]
  },
  {
   "cell_type": "code",
   "execution_count": 14,
   "metadata": {},
   "outputs": [],
   "source": [
    "model_quantile_50.load_weights(path_quant_50)"
   ]
  },
  {
   "cell_type": "code",
   "execution_count": 15,
   "metadata": {},
   "outputs": [],
   "source": [
    "delta_50 = model_quantile_50.predict(x_test)"
   ]
  },
  {
   "cell_type": "code",
   "execution_count": 16,
   "metadata": {},
   "outputs": [
    {
     "name": "stdout",
     "output_type": "stream",
     "text": [
      "1.4058089\n"
     ]
    }
   ],
   "source": [
    "print('The predicted approximate superhedging price is:', delta_50[0,0,0])"
   ]
  },
  {
   "cell_type": "code",
   "execution_count": 17,
   "metadata": {},
   "outputs": [],
   "source": [
    "K = tf.constant(100, dtype=\"float32\")\n",
    "H_50 = tf.maximum(tf.subtract(y_test[ :, -1,0], K), tf.constant(0, dtype=\"float32\"))\n",
    "price_incr = tf.subtract(y_test[:,1:,:] , y_test[:, :-1,:])\n",
    "\n",
    "port_pred_50 = tf.add(delta_50[ :, 0,0],\n",
    "                       tf.reduce_sum(\n",
    "                           tf.reduce_sum(\n",
    "                               tf.multiply(delta_50[:, 1:,:], price_incr), axis=2), axis=1))\n",
    "\n",
    "\n",
    "z_50 = tf.subtract(port_pred_50, H_50)"
   ]
  },
  {
   "cell_type": "code",
   "execution_count": 18,
   "metadata": {},
   "outputs": [
    {
     "data": {
      "image/png": "[encoded data removed]",
      "text/plain": [
       "<Figure size 720x720 with 1 Axes>"
      ]
     },
     "metadata": {},
     "output_type": "display_data"
    }
   ],
   "source": [
    "n_bins = 50\n",
    "\n",
    "plt.figure(figsize = (10,10))\n",
    "plt.hist(z_50, bins=n_bins)\n",
    "plt.title(\"Test set quantile loss - lambda = 50\")\n",
    "plt.show()"
   ]
  },
  {
   "cell_type": "code",
   "execution_count": 19,
   "metadata": {},
   "outputs": [
    {
     "name": "stdout",
     "output_type": "stream",
     "text": [
      "The hedging probability on the test set is: tf.Tensor(0.5443815, shape=(), dtype=float32)\n"
     ]
    }
   ],
   "source": [
    "prob_hedg_50 = tf.reduce_mean(tf.where(z_50 >= 0, 1.0, 0.))\n",
    "print(\"The hedging probability on the test set is:\" , prob_hedg_50)"
   ]
  },
  {
   "cell_type": "code",
   "execution_count": 20,
   "metadata": {},
   "outputs": [],
   "source": [
    "metrics = [prob_hedge, predicted_price]\n",
    "lr = 0.0001\n",
    "optimizer = Adam(lr=lr)\n",
    "epochs = 50\n",
    "batch_size = 1024\n",
    "\n"
   ]
  },
  {
   "cell_type": "code",
   "execution_count": 21,
   "metadata": {},
   "outputs": [
    {
     "name": "stdout",
     "output_type": "stream",
     "text": [
      "Model: \"sequential_1\"\n",
      "_________________________________________________________________\n",
      "Layer (type)                 Output Shape              Param #   \n",
      "=================================================================\n",
      "lstm_2 (LSTM)                (None, 30, 30)            3840      \n",
      "_________________________________________________________________\n",
      "activation_3 (Activation)    (None, 30, 30)            0         \n",
      "_________________________________________________________________\n",
      "lstm_3 (LSTM)                (None, 30, 30)            7320      \n",
      "_________________________________________________________________\n",
      "activation_4 (Activation)    (None, 30, 30)            0         \n",
      "_________________________________________________________________\n",
      "dense_1 (Dense)              (None, 30, 1)             31        \n",
      "_________________________________________________________________\n",
      "activation_5 (Activation)    (None, 30, 1)             0         \n",
      "=================================================================\n",
      "Total params: 11,191\n",
      "Trainable params: 11,191\n",
      "Non-trainable params: 0\n",
      "_________________________________________________________________\n",
      "None\n"
     ]
    }
   ],
   "source": [
    "model_quantile_10000 = create_model(optimizer = optimizer, loss = loss_quantile_par(10000), metrics = metrics)\n",
    "print(model_quantile_10000.summary())"
   ]
  },
  {
   "cell_type": "code",
   "execution_count": 22,
   "metadata": {},
   "outputs": [],
   "source": [
    "#hist_10000 = model_quantile_10000.fit(x_train, y_train, epochs = epochs, batch_size = batch_size)"
   ]
  },
  {
   "cell_type": "code",
   "execution_count": 23,
   "metadata": {},
   "outputs": [],
   "source": [
    "#model_quantile_10000.save_weights(filepath = path_quant_10000)"
   ]
  },
  {
   "cell_type": "code",
   "execution_count": 24,
   "metadata": {},
   "outputs": [],
   "source": [
    "model_quantile_10000.load_weights(path_quant_10000)"
   ]
  },
  {
   "cell_type": "code",
   "execution_count": 25,
   "metadata": {},
   "outputs": [],
   "source": [
    "delta_10000 = model_quantile_10000.predict(x_test)"
   ]
  },
  {
   "cell_type": "code",
   "execution_count": 26,
   "metadata": {},
   "outputs": [],
   "source": [
    "K = tf.constant(100, dtype=\"float32\")\n",
    "H_10000 = tf.maximum(tf.subtract(y_test[ :, -1,0], K), tf.constant(0, dtype=\"float32\"))\n",
    "price_incr = tf.subtract(y_test[:,1:,:] , y_test[:, :-1,:])\n",
    "\n",
    "port_pred_10000 = tf.add(delta_10000[ :, 0,0],\n",
    "                       tf.reduce_sum(\n",
    "                           tf.reduce_sum(\n",
    "                               tf.multiply(delta_10000[:, 1:,:], price_incr), axis=2), axis=1))\n",
    "\n",
    "\n",
    "z_10000 = tf.subtract(port_pred_10000, H_10000)"
   ]
  },
  {
   "cell_type": "code",
   "execution_count": 27,
   "metadata": {},
   "outputs": [
    {
     "name": "stdout",
     "output_type": "stream",
     "text": [
      "2.1773787\n"
     ]
    }
   ],
   "source": [
    "print('The predicted approximate superhedging price is:', delta_10000[0,0,0])"
   ]
  },
  {
   "cell_type": "code",
   "execution_count": 28,
   "metadata": {},
   "outputs": [
    {
     "name": "stdout",
     "output_type": "stream",
     "text": [
      "The hedging probability on the test set is: tf.Tensor(0.99779946, shape=(), dtype=float32)\n"
     ]
    }
   ],
   "source": [
    "prob_hedg_10000 = tf.reduce_mean(tf.where(z_10000 >= 0, 1.0, 0.))\n",
    "print(\"The hedging probability on the test set is:\" , prob_hedg_10000)"
   ]
  },
  {
   "cell_type": "code",
   "execution_count": 29,
   "metadata": {},
   "outputs": [
    {
     "data": {
      "image/png": "[encoded data removed]",
      "text/plain": [
       "<Figure size 720x720 with 1 Axes>"
      ]
     },
     "metadata": {},
     "output_type": "display_data"
    }
   ],
   "source": [
    "n_bins = 50\n",
    "\n",
    "\n",
    "plt.figure(figsize = (10,10))\n",
    "plt.hist(z_10000, bins=n_bins)\n",
    "\n",
    "\n",
    "plt.show()"
   ]
  },
  {
   "cell_type": "code",
   "execution_count": 30,
   "metadata": {},
   "outputs": [
    {
     "data": {
      "image/png": "[encoded data removed]",
      "text/plain": [
       "<Figure size 720x720 with 1 Axes>"
      ]
     },
     "metadata": {},
     "output_type": "display_data"
    }
   ],
   "source": [
    "n_bins = 50\n",
    "\n",
    "\n",
    "plt.figure(figsize = (10,10))\n",
    "plt.hist(z_50, alpha = 0.5 ,bins=n_bins, label = \"Lambda = 50\")\n",
    "plt.hist(z_10000, alpha = 0.5 ,bins=n_bins, label = \"Lambda = 10000\")\n",
    "plt.legend()\n",
    "\n",
    "\n",
    "\n",
    "plt.show()"
   ]
  },
  {
   "cell_type": "markdown",
   "metadata": {},
   "source": [
    "# Comparison Black-Scholes"
   ]
  },
  {
   "cell_type": "code",
   "execution_count": 31,
   "metadata": {},
   "outputs": [],
   "source": [
    "def delta_BS(S, sigma = vol, K = 100., r = 0., TimeSteps =TimeSteps, T = TimeSteps * dt):\n",
    "    delta_hedge = []\n",
    "    time_steps = TimeSteps\n",
    "    for i in range(time_steps-1):\n",
    "        i_ratio = float(i) * dt\n",
    "        delta = (norm.cdf((np.log(S[ :, i]/K)\n",
    "                              + ( r + sigma ** 2 / 2)\n",
    "                              * (T - i_ratio))/ (sigma * np.sqrt(T - i_ratio))))\n",
    "        delta_hedge.append(delta)\n",
    "    delta_hedge = np.stack(delta_hedge, axis = 1)\n",
    "    return delta_hedge\n",
    "\n",
    "\n",
    "d1_BS = (np.log(S_BS/L_BS)+ (r_BS + vol_BS ** 2 / 2) * T_BS)/(vol_BS * np.sqrt(T_BS))"
   ]
  },
  {
   "cell_type": "code",
   "execution_count": 32,
   "metadata": {},
   "outputs": [],
   "source": [
    "hedge_BS = delta_BS(S = y_test, sigma = vol, K = 100., r = 0., TimeSteps = TimeSteps, T = TimeSteps * dt)"
   ]
  },
  {
   "cell_type": "code",
   "execution_count": 33,
   "metadata": {},
   "outputs": [],
   "source": [
    "H_BS = np.maximum(y_test[ :, -1,0]- 100, 0)"
   ]
  },
  {
   "cell_type": "code",
   "execution_count": 34,
   "metadata": {},
   "outputs": [],
   "source": [
    "price_incr = y_test[ : , 1: ,:] - y_test[:, :-1,:]"
   ]
  },
  {
   "cell_type": "code",
   "execution_count": 35,
   "metadata": {},
   "outputs": [],
   "source": [
    "v = np.array(1.381907502164779)\n",
    "\n",
    "port_BS = tf.add(v,\n",
    "                    tf.reduce_sum(\n",
    "                           tf.reduce_sum(\n",
    "                               tf.multiply(hedge_BS, price_incr), axis=2), axis=1))"
   ]
  },
  {
   "cell_type": "code",
   "execution_count": 36,
   "metadata": {},
   "outputs": [],
   "source": [
    "z_BS = np.subtract(port_BS, H_BS)"
   ]
  },
  {
   "cell_type": "code",
   "execution_count": 37,
   "metadata": {},
   "outputs": [
    {
     "name": "stdout",
     "output_type": "stream",
     "text": [
      "Superhedging probability with the BS delta strategy:  tf.Tensor(0.5368913, shape=(), dtype=float32)\n"
     ]
    }
   ],
   "source": [
    "prob_delta = tf.reduce_mean(tf.where(z_BS >= 0, 1., 0.))\n",
    "print(\"Superhedging probability with the BS delta strategy: \", prob_delta)"
   ]
  },
  {
   "cell_type": "code",
   "execution_count": 38,
   "metadata": {},
   "outputs": [
    {
     "data": {
      "image/png": "[encoded data removed]",
      "text/plain": [
       "<Figure size 720x720 with 1 Axes>"
      ]
     },
     "metadata": {},
     "output_type": "display_data"
    }
   ],
   "source": [
    "n_bins = 50\n",
    "\n",
    "plt.figure(figsize = (10,10))\n",
    "plt.hist(z_50, bins = n_bins, alpha = 0.5, label = \"Lambda = 50\")\n",
    "plt.hist(z_BS, bins = n_bins, alpha = 0.5, label = \"Delta hedging\")\n",
    "\n",
    "\n",
    "plt.legend()\n",
    "\n",
    "plt.show()"
   ]
  },
  {
   "cell_type": "code",
   "execution_count": 39,
   "metadata": {},
   "outputs": [
    {
     "data": {
      "image/png": "[encoded data removed]",
      "text/plain": [
       "<Figure size 720x720 with 1 Axes>"
      ]
     },
     "metadata": {},
     "output_type": "display_data"
    }
   ],
   "source": [
    "n_bins = 50\n",
    "\n",
    "plt.figure(figsize = (10,10))\n",
    "\n",
    "plt.hist(z_10000, bins=n_bins, alpha = 0.5, label = \"Superhedging - lambda = 10000\")\n",
    "plt.hist(z_BS, bins=n_bins, alpha = 0.5, label = \"Black Scholes delta hedging strategy\")\n",
    "\n",
    "\n",
    "plt.show()"
   ]
  },
  {
   "cell_type": "code",
   "execution_count": null,
   "metadata": {},
   "outputs": [],
   "source": []
  },
  {
   "cell_type": "code",
   "execution_count": null,
   "metadata": {},
   "outputs": [],
   "source": []
  }
 ],
 "metadata": {
  "kernelspec": {
   "display_name": "Python 3",
   "language": "python",
   "name": "python3"
  },
  "language_info": {
   "codemirror_mode": {
    "name": "ipython",
    "version": 3
   },
   "file_extension": ".py",
   "mimetype": "text/x-python",
   "name": "python",
   "nbconvert_exporter": "python",
   "pygments_lexer": "ipython3",
   "version": "3.7.6"
  }
 },
 "nbformat": 4,
 "nbformat_minor": 4
}
